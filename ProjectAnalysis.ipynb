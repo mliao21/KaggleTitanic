{
 "cells": [
  {
   "cell_type": "markdown",
   "id": "e43960ac-d0c1-4786-8930-5f57c9658d66",
   "metadata": {},
   "source": [
    "# GETTING STARTED WITH KAGGLE COMPETITIONS\n",
    "Author: *Melissa Liao*"
   ]
  },
  {
   "cell_type": "code",
   "execution_count": 1,
   "id": "d6ee2d69-523f-4495-9b8a-91860260a650",
   "metadata": {},
   "outputs": [],
   "source": [
    "import numpy as np\n",
    "import pandas as pd\n",
    "import matplotlib.pyplot as plt\n",
    "import seaborn as sns"
   ]
  },
  {
   "cell_type": "markdown",
   "id": "54d5808c-296f-4899-808b-37b62dab1b63",
   "metadata": {},
   "source": [
    "We will go through my first Kaggle competition project, the `Titanic - Machine Learning from Disaster`. In this project, we are going to follow the following workflow: \n",
    "1. Download and load the data given by the site: `train.csv` and `test.csv`.\n",
    "2. Inspect the data to analyze any relationship between the features.\n",
    "3. Preprocess any discrete, nominal and string data.\n",
    "4. Fit and compare models using cross-validation (using our defined functions).\n",
    "5. Apply hyperparameter tuning using grid search (using our defined functions) to find the best model.\n",
    "6. Retrain best model on data and predict test data.\n",
    "7. Submit predicted results to Kaggle and conclude my interpretations.\n",
    "8. Reflect on this mini-project experience."
   ]
  },
  {
   "cell_type": "markdown",
   "id": "2e97f532-3ef2-410c-a1f1-fa25d011fadb",
   "metadata": {},
   "source": [
    "## 0. Function definitions\n",
    "\n",
    "We will defined our own functions to make it easier to find the best model and hyperparameters that outputs the best accuracy scores for prediction."
   ]
  },
  {
   "cell_type": "code",
   "execution_count": 2,
   "id": "8afd7168-ea91-4bc2-8477-b52c5e17c2eb",
   "metadata": {},
   "outputs": [],
   "source": [
    "from sklearn.model_selection import cross_validate\n",
    "\n",
    "def get_classifier_cv_score(model, X, y, scoring='accuracy', cv=7):\n",
    "    '''Calculate train and validation scores of classifier (model) using cross-validation\n",
    "        \n",
    "        \n",
    "        model (sklearn classifier): Classifier to train and evaluate\n",
    "        X (numpy.array or pandas.DataFrame): Feature matrix\n",
    "        y (numpy.array or pandas.Series): Target vector\n",
    "        scoring (str): a scoring string accepted by sklearn.metrics.cross_validate()\n",
    "        cv (int): number of cross-validation folds see sklearn.metrics.cross_validate()\n",
    "        \n",
    "        returns: mean training score, mean validation score\n",
    "    \n",
    "    '''\n",
    "    model.fit(X, y)\n",
    "    scores = cross_validate(model, X, y, cv=cv, \n",
    "                            scoring=scoring, \n",
    "                            return_train_score=True)\n",
    "    return scores['train_score'].mean(), scores['test_score'].mean()"
   ]
  },
  {
   "cell_type": "code",
   "execution_count": 3,
   "id": "3244c999-bbde-41e0-a67b-438cd77f17b5",
   "metadata": {},
   "outputs": [],
   "source": [
    "def print_grid_search_result(grid_search):\n",
    "    '''Prints summary of best model from GridSearchCV object.\n",
    "    \n",
    "        For the best model of the grid search, print:\n",
    "        - parameters \n",
    "        - cross-validation training score\n",
    "        \n",
    "        scores are printed with 3 decimal places.\n",
    "        grid_search (sklearn GridSearchCV): Fitted GridSearchCV object\n",
    "        returns: None\n",
    "\n",
    "    '''\n",
    "    print(\"Best parameters: {}\".format(grid_search.best_params_))\n",
    "    print(\"Best cross-validation score: {:.3f}\".format(grid_search.best_score_))"
   ]
  },
  {
   "cell_type": "code",
   "execution_count": 4,
   "id": "c4205d78-d058-4166-926d-61fc31a2c396",
   "metadata": {},
   "outputs": [],
   "source": [
    "import mglearn\n",
    "\n",
    "def plot_grid_search_results(grid_search):\n",
    "    '''For grids with 2 hyperparameters, create a heatmap plot of test scores\n",
    "        grid_search (sklearn GridSearchCV): Fitted GridSearchCV object\n",
    "        uses mglearn.tools.heatmap() for plotting.\n",
    "        \n",
    "    '''\n",
    "    results = pd.DataFrame(grid_search.cv_results_)\n",
    "    params = sorted(grid_search.param_grid.keys())\n",
    "    assert len(params) == 2, \"We can only plot two parameters.\"\n",
    "    \n",
    "    # second dimension in reshape are rows, needs to be the fast changing parameter\n",
    "    scores = np.array(results.mean_test_score).reshape(len(grid_search.param_grid[params[0]]),\n",
    "                                                      len(grid_search.param_grid[params[1]]))\n",
    "\n",
    "    # plot the mean cross-validation scores\n",
    "    # x-axis needs to be the fast changing parameter\n",
    "    mglearn.tools.heatmap(scores, \n",
    "                          xlabel=params[1], \n",
    "                          xticklabels=grid_search.param_grid[params[1]], \n",
    "                          ylabel=params[0], \n",
    "                          yticklabels=grid_search.param_grid[params[0]],\n",
    "                          cmap=\"viridis\", fmt=\"%0.3f\")"
   ]
  },
  {
   "cell_type": "markdown",
   "id": "1eef7271-f675-4220-a221-f683798e2790",
   "metadata": {},
   "source": [
    "## 1. Load data\n",
    "The Titanic Kaggle project can be downloaded from https://www.kaggle.com/c/titanic/data and add it to your Jupyter Notebook directory."
   ]
  },
  {
   "cell_type": "code",
   "execution_count": 5,
   "id": "ed9b225d-9a04-4dd9-96b7-b0992468cef1",
   "metadata": {},
   "outputs": [
    {
     "data": {
      "text/html": [
       "<div>\n",
       "<style scoped>\n",
       "    .dataframe tbody tr th:only-of-type {\n",
       "        vertical-align: middle;\n",
       "    }\n",
       "\n",
       "    .dataframe tbody tr th {\n",
       "        vertical-align: top;\n",
       "    }\n",
       "\n",
       "    .dataframe thead th {\n",
       "        text-align: right;\n",
       "    }\n",
       "</style>\n",
       "<table border=\"1\" class=\"dataframe\">\n",
       "  <thead>\n",
       "    <tr style=\"text-align: right;\">\n",
       "      <th></th>\n",
       "      <th>PassengerId</th>\n",
       "      <th>Survived</th>\n",
       "      <th>Pclass</th>\n",
       "      <th>Name</th>\n",
       "      <th>Sex</th>\n",
       "      <th>Age</th>\n",
       "      <th>SibSp</th>\n",
       "      <th>Parch</th>\n",
       "      <th>Ticket</th>\n",
       "      <th>Fare</th>\n",
       "      <th>Cabin</th>\n",
       "      <th>Embarked</th>\n",
       "    </tr>\n",
       "  </thead>\n",
       "  <tbody>\n",
       "    <tr>\n",
       "      <th>0</th>\n",
       "      <td>1</td>\n",
       "      <td>0</td>\n",
       "      <td>3</td>\n",
       "      <td>Braund, Mr. Owen Harris</td>\n",
       "      <td>male</td>\n",
       "      <td>22.0</td>\n",
       "      <td>1</td>\n",
       "      <td>0</td>\n",
       "      <td>A/5 21171</td>\n",
       "      <td>7.2500</td>\n",
       "      <td>NaN</td>\n",
       "      <td>S</td>\n",
       "    </tr>\n",
       "    <tr>\n",
       "      <th>1</th>\n",
       "      <td>2</td>\n",
       "      <td>1</td>\n",
       "      <td>1</td>\n",
       "      <td>Cumings, Mrs. John Bradley (Florence Briggs Th...</td>\n",
       "      <td>female</td>\n",
       "      <td>38.0</td>\n",
       "      <td>1</td>\n",
       "      <td>0</td>\n",
       "      <td>PC 17599</td>\n",
       "      <td>71.2833</td>\n",
       "      <td>C85</td>\n",
       "      <td>C</td>\n",
       "    </tr>\n",
       "    <tr>\n",
       "      <th>2</th>\n",
       "      <td>3</td>\n",
       "      <td>1</td>\n",
       "      <td>3</td>\n",
       "      <td>Heikkinen, Miss. Laina</td>\n",
       "      <td>female</td>\n",
       "      <td>26.0</td>\n",
       "      <td>0</td>\n",
       "      <td>0</td>\n",
       "      <td>STON/O2. 3101282</td>\n",
       "      <td>7.9250</td>\n",
       "      <td>NaN</td>\n",
       "      <td>S</td>\n",
       "    </tr>\n",
       "    <tr>\n",
       "      <th>3</th>\n",
       "      <td>4</td>\n",
       "      <td>1</td>\n",
       "      <td>1</td>\n",
       "      <td>Futrelle, Mrs. Jacques Heath (Lily May Peel)</td>\n",
       "      <td>female</td>\n",
       "      <td>35.0</td>\n",
       "      <td>1</td>\n",
       "      <td>0</td>\n",
       "      <td>113803</td>\n",
       "      <td>53.1000</td>\n",
       "      <td>C123</td>\n",
       "      <td>S</td>\n",
       "    </tr>\n",
       "    <tr>\n",
       "      <th>4</th>\n",
       "      <td>5</td>\n",
       "      <td>0</td>\n",
       "      <td>3</td>\n",
       "      <td>Allen, Mr. William Henry</td>\n",
       "      <td>male</td>\n",
       "      <td>35.0</td>\n",
       "      <td>0</td>\n",
       "      <td>0</td>\n",
       "      <td>373450</td>\n",
       "      <td>8.0500</td>\n",
       "      <td>NaN</td>\n",
       "      <td>S</td>\n",
       "    </tr>\n",
       "  </tbody>\n",
       "</table>\n",
       "</div>"
      ],
      "text/plain": [
       "   PassengerId  Survived  Pclass  \\\n",
       "0            1         0       3   \n",
       "1            2         1       1   \n",
       "2            3         1       3   \n",
       "3            4         1       1   \n",
       "4            5         0       3   \n",
       "\n",
       "                                                Name     Sex   Age  SibSp  \\\n",
       "0                            Braund, Mr. Owen Harris    male  22.0      1   \n",
       "1  Cumings, Mrs. John Bradley (Florence Briggs Th...  female  38.0      1   \n",
       "2                             Heikkinen, Miss. Laina  female  26.0      0   \n",
       "3       Futrelle, Mrs. Jacques Heath (Lily May Peel)  female  35.0      1   \n",
       "4                           Allen, Mr. William Henry    male  35.0      0   \n",
       "\n",
       "   Parch            Ticket     Fare Cabin Embarked  \n",
       "0      0         A/5 21171   7.2500   NaN        S  \n",
       "1      0          PC 17599  71.2833   C85        C  \n",
       "2      0  STON/O2. 3101282   7.9250   NaN        S  \n",
       "3      0            113803  53.1000  C123        S  \n",
       "4      0            373450   8.0500   NaN        S  "
      ]
     },
     "execution_count": 5,
     "metadata": {},
     "output_type": "execute_result"
    }
   ],
   "source": [
    "train_data = pd.read_csv(\"train.csv\")\n",
    "train_data.head()"
   ]
  },
  {
   "cell_type": "code",
   "execution_count": 6,
   "id": "529438da-cfc3-41bb-a8c5-0f2845855351",
   "metadata": {},
   "outputs": [
    {
     "data": {
      "text/html": [
       "<div>\n",
       "<style scoped>\n",
       "    .dataframe tbody tr th:only-of-type {\n",
       "        vertical-align: middle;\n",
       "    }\n",
       "\n",
       "    .dataframe tbody tr th {\n",
       "        vertical-align: top;\n",
       "    }\n",
       "\n",
       "    .dataframe thead th {\n",
       "        text-align: right;\n",
       "    }\n",
       "</style>\n",
       "<table border=\"1\" class=\"dataframe\">\n",
       "  <thead>\n",
       "    <tr style=\"text-align: right;\">\n",
       "      <th></th>\n",
       "      <th>PassengerId</th>\n",
       "      <th>Pclass</th>\n",
       "      <th>Name</th>\n",
       "      <th>Sex</th>\n",
       "      <th>Age</th>\n",
       "      <th>SibSp</th>\n",
       "      <th>Parch</th>\n",
       "      <th>Ticket</th>\n",
       "      <th>Fare</th>\n",
       "      <th>Cabin</th>\n",
       "      <th>Embarked</th>\n",
       "    </tr>\n",
       "  </thead>\n",
       "  <tbody>\n",
       "    <tr>\n",
       "      <th>0</th>\n",
       "      <td>892</td>\n",
       "      <td>3</td>\n",
       "      <td>Kelly, Mr. James</td>\n",
       "      <td>male</td>\n",
       "      <td>34.5</td>\n",
       "      <td>0</td>\n",
       "      <td>0</td>\n",
       "      <td>330911</td>\n",
       "      <td>7.8292</td>\n",
       "      <td>NaN</td>\n",
       "      <td>Q</td>\n",
       "    </tr>\n",
       "    <tr>\n",
       "      <th>1</th>\n",
       "      <td>893</td>\n",
       "      <td>3</td>\n",
       "      <td>Wilkes, Mrs. James (Ellen Needs)</td>\n",
       "      <td>female</td>\n",
       "      <td>47.0</td>\n",
       "      <td>1</td>\n",
       "      <td>0</td>\n",
       "      <td>363272</td>\n",
       "      <td>7.0000</td>\n",
       "      <td>NaN</td>\n",
       "      <td>S</td>\n",
       "    </tr>\n",
       "    <tr>\n",
       "      <th>2</th>\n",
       "      <td>894</td>\n",
       "      <td>2</td>\n",
       "      <td>Myles, Mr. Thomas Francis</td>\n",
       "      <td>male</td>\n",
       "      <td>62.0</td>\n",
       "      <td>0</td>\n",
       "      <td>0</td>\n",
       "      <td>240276</td>\n",
       "      <td>9.6875</td>\n",
       "      <td>NaN</td>\n",
       "      <td>Q</td>\n",
       "    </tr>\n",
       "    <tr>\n",
       "      <th>3</th>\n",
       "      <td>895</td>\n",
       "      <td>3</td>\n",
       "      <td>Wirz, Mr. Albert</td>\n",
       "      <td>male</td>\n",
       "      <td>27.0</td>\n",
       "      <td>0</td>\n",
       "      <td>0</td>\n",
       "      <td>315154</td>\n",
       "      <td>8.6625</td>\n",
       "      <td>NaN</td>\n",
       "      <td>S</td>\n",
       "    </tr>\n",
       "    <tr>\n",
       "      <th>4</th>\n",
       "      <td>896</td>\n",
       "      <td>3</td>\n",
       "      <td>Hirvonen, Mrs. Alexander (Helga E Lindqvist)</td>\n",
       "      <td>female</td>\n",
       "      <td>22.0</td>\n",
       "      <td>1</td>\n",
       "      <td>1</td>\n",
       "      <td>3101298</td>\n",
       "      <td>12.2875</td>\n",
       "      <td>NaN</td>\n",
       "      <td>S</td>\n",
       "    </tr>\n",
       "  </tbody>\n",
       "</table>\n",
       "</div>"
      ],
      "text/plain": [
       "   PassengerId  Pclass                                          Name     Sex  \\\n",
       "0          892       3                              Kelly, Mr. James    male   \n",
       "1          893       3              Wilkes, Mrs. James (Ellen Needs)  female   \n",
       "2          894       2                     Myles, Mr. Thomas Francis    male   \n",
       "3          895       3                              Wirz, Mr. Albert    male   \n",
       "4          896       3  Hirvonen, Mrs. Alexander (Helga E Lindqvist)  female   \n",
       "\n",
       "    Age  SibSp  Parch   Ticket     Fare Cabin Embarked  \n",
       "0  34.5      0      0   330911   7.8292   NaN        Q  \n",
       "1  47.0      1      0   363272   7.0000   NaN        S  \n",
       "2  62.0      0      0   240276   9.6875   NaN        Q  \n",
       "3  27.0      0      0   315154   8.6625   NaN        S  \n",
       "4  22.0      1      1  3101298  12.2875   NaN        S  "
      ]
     },
     "execution_count": 6,
     "metadata": {},
     "output_type": "execute_result"
    }
   ],
   "source": [
    "test_data = pd.read_csv(\"test.csv\")\n",
    "test_data.head()"
   ]
  },
  {
   "cell_type": "markdown",
   "id": "43a51fe3-f074-4b30-82de-361789004411",
   "metadata": {},
   "source": [
    "A brief description of what each column represents:\n",
    "* pclass - ticket class (1st, 2nd and 3rd class)\n",
    "* Sex - gender\n",
    "* Age - age in years\n",
    "* SibSp - number of siblings and/or spouses aboard in the Titanic\n",
    "* Parch - number of parents and/or children aboard in the Titanic\n",
    "* Ticket - ticket number of the passenger\n",
    "* Fare - passenger fare\n",
    "* Cabin - cabin number\n",
    "* Embarked - port of embarkation (C=Cherbourg, Q=Queenstown, S=Southampton)"
   ]
  },
  {
   "cell_type": "markdown",
   "id": "ea991893-f21c-4fd3-a778-43c96ab042c1",
   "metadata": {},
   "source": [
    "### 1.1 Prepare the feature matrix and target vector\n",
    "\n",
    "Since the test data doesn't include the ground truth on passengers who survived in the Titanic, we will only set the train data into feature matrix `X` and target vector `y`. And print out the shape and type of `X`, `y`. As we know what each information represents, I would discard the `PassengerId`, `Name` and `Ticket` columns. All three columns contains unique values on each row that pertains to the actual passenger identification and it wouldn't be relevant for the objective of the project. Also, the port of embarkation from a passenger, `Embarked`, doesn't directly impact from the place where the incident occur, so we may take that column as well."
   ]
  },
  {
   "cell_type": "code",
   "execution_count": 7,
   "id": "a94f2a26-df59-4b6f-9b1a-ff1e9f27f929",
   "metadata": {},
   "outputs": [
    {
     "data": {
      "text/html": [
       "<div>\n",
       "<style scoped>\n",
       "    .dataframe tbody tr th:only-of-type {\n",
       "        vertical-align: middle;\n",
       "    }\n",
       "\n",
       "    .dataframe tbody tr th {\n",
       "        vertical-align: top;\n",
       "    }\n",
       "\n",
       "    .dataframe thead th {\n",
       "        text-align: right;\n",
       "    }\n",
       "</style>\n",
       "<table border=\"1\" class=\"dataframe\">\n",
       "  <thead>\n",
       "    <tr style=\"text-align: right;\">\n",
       "      <th></th>\n",
       "      <th>Survived</th>\n",
       "      <th>Pclass</th>\n",
       "      <th>Sex</th>\n",
       "      <th>Age</th>\n",
       "      <th>SibSp</th>\n",
       "      <th>Parch</th>\n",
       "      <th>Fare</th>\n",
       "      <th>Cabin</th>\n",
       "    </tr>\n",
       "  </thead>\n",
       "  <tbody>\n",
       "    <tr>\n",
       "      <th>0</th>\n",
       "      <td>0</td>\n",
       "      <td>3</td>\n",
       "      <td>male</td>\n",
       "      <td>22.0</td>\n",
       "      <td>1</td>\n",
       "      <td>0</td>\n",
       "      <td>7.2500</td>\n",
       "      <td>NaN</td>\n",
       "    </tr>\n",
       "    <tr>\n",
       "      <th>1</th>\n",
       "      <td>1</td>\n",
       "      <td>1</td>\n",
       "      <td>female</td>\n",
       "      <td>38.0</td>\n",
       "      <td>1</td>\n",
       "      <td>0</td>\n",
       "      <td>71.2833</td>\n",
       "      <td>C85</td>\n",
       "    </tr>\n",
       "    <tr>\n",
       "      <th>2</th>\n",
       "      <td>1</td>\n",
       "      <td>3</td>\n",
       "      <td>female</td>\n",
       "      <td>26.0</td>\n",
       "      <td>0</td>\n",
       "      <td>0</td>\n",
       "      <td>7.9250</td>\n",
       "      <td>NaN</td>\n",
       "    </tr>\n",
       "    <tr>\n",
       "      <th>3</th>\n",
       "      <td>1</td>\n",
       "      <td>1</td>\n",
       "      <td>female</td>\n",
       "      <td>35.0</td>\n",
       "      <td>1</td>\n",
       "      <td>0</td>\n",
       "      <td>53.1000</td>\n",
       "      <td>C123</td>\n",
       "    </tr>\n",
       "    <tr>\n",
       "      <th>4</th>\n",
       "      <td>0</td>\n",
       "      <td>3</td>\n",
       "      <td>male</td>\n",
       "      <td>35.0</td>\n",
       "      <td>0</td>\n",
       "      <td>0</td>\n",
       "      <td>8.0500</td>\n",
       "      <td>NaN</td>\n",
       "    </tr>\n",
       "  </tbody>\n",
       "</table>\n",
       "</div>"
      ],
      "text/plain": [
       "   Survived  Pclass     Sex   Age  SibSp  Parch     Fare Cabin\n",
       "0         0       3    male  22.0      1      0   7.2500   NaN\n",
       "1         1       1  female  38.0      1      0  71.2833   C85\n",
       "2         1       3  female  26.0      0      0   7.9250   NaN\n",
       "3         1       1  female  35.0      1      0  53.1000  C123\n",
       "4         0       3    male  35.0      0      0   8.0500   NaN"
      ]
     },
     "execution_count": 7,
     "metadata": {},
     "output_type": "execute_result"
    }
   ],
   "source": [
    "train_data = train_data.drop(['PassengerId', 'Name', 'Ticket', 'Embarked'], axis=1)\n",
    "train_data.head()"
   ]
  },
  {
   "cell_type": "code",
   "execution_count": 8,
   "id": "0fef1bcd-0e95-4b2b-a867-183cf3ac95ce",
   "metadata": {},
   "outputs": [
    {
     "name": "stdout",
     "output_type": "stream",
     "text": [
      "X.shape=(891, 7), type(X)=<class 'pandas.core.frame.DataFrame'>\n",
      "y.shape=(891,), type(y)=<class 'pandas.core.series.Series'>\n"
     ]
    }
   ],
   "source": [
    "X_train = train_data.drop('Survived', axis=1)\n",
    "y_train = train_data['Survived']\n",
    "\n",
    "print('X.shape={}, type(X)={}'.format(X_train.shape, type(X_train)))\n",
    "print('y.shape={}, type(y)={}'.format(y_train.shape, type(y_train)))"
   ]
  },
  {
   "cell_type": "code",
   "execution_count": 9,
   "id": "df656837-7e50-4af8-aff2-41de5962f3ec",
   "metadata": {},
   "outputs": [
    {
     "data": {
      "text/html": [
       "<div>\n",
       "<style scoped>\n",
       "    .dataframe tbody tr th:only-of-type {\n",
       "        vertical-align: middle;\n",
       "    }\n",
       "\n",
       "    .dataframe tbody tr th {\n",
       "        vertical-align: top;\n",
       "    }\n",
       "\n",
       "    .dataframe thead th {\n",
       "        text-align: right;\n",
       "    }\n",
       "</style>\n",
       "<table border=\"1\" class=\"dataframe\">\n",
       "  <thead>\n",
       "    <tr style=\"text-align: right;\">\n",
       "      <th></th>\n",
       "      <th>Pclass</th>\n",
       "      <th>Sex</th>\n",
       "      <th>Age</th>\n",
       "      <th>SibSp</th>\n",
       "      <th>Parch</th>\n",
       "      <th>Fare</th>\n",
       "      <th>Cabin</th>\n",
       "    </tr>\n",
       "  </thead>\n",
       "  <tbody>\n",
       "    <tr>\n",
       "      <th>0</th>\n",
       "      <td>3</td>\n",
       "      <td>male</td>\n",
       "      <td>34.5</td>\n",
       "      <td>0</td>\n",
       "      <td>0</td>\n",
       "      <td>7.8292</td>\n",
       "      <td>NaN</td>\n",
       "    </tr>\n",
       "    <tr>\n",
       "      <th>1</th>\n",
       "      <td>3</td>\n",
       "      <td>female</td>\n",
       "      <td>47.0</td>\n",
       "      <td>1</td>\n",
       "      <td>0</td>\n",
       "      <td>7.0000</td>\n",
       "      <td>NaN</td>\n",
       "    </tr>\n",
       "    <tr>\n",
       "      <th>2</th>\n",
       "      <td>2</td>\n",
       "      <td>male</td>\n",
       "      <td>62.0</td>\n",
       "      <td>0</td>\n",
       "      <td>0</td>\n",
       "      <td>9.6875</td>\n",
       "      <td>NaN</td>\n",
       "    </tr>\n",
       "    <tr>\n",
       "      <th>3</th>\n",
       "      <td>3</td>\n",
       "      <td>male</td>\n",
       "      <td>27.0</td>\n",
       "      <td>0</td>\n",
       "      <td>0</td>\n",
       "      <td>8.6625</td>\n",
       "      <td>NaN</td>\n",
       "    </tr>\n",
       "    <tr>\n",
       "      <th>4</th>\n",
       "      <td>3</td>\n",
       "      <td>female</td>\n",
       "      <td>22.0</td>\n",
       "      <td>1</td>\n",
       "      <td>1</td>\n",
       "      <td>12.2875</td>\n",
       "      <td>NaN</td>\n",
       "    </tr>\n",
       "  </tbody>\n",
       "</table>\n",
       "</div>"
      ],
      "text/plain": [
       "   Pclass     Sex   Age  SibSp  Parch     Fare Cabin\n",
       "0       3    male  34.5      0      0   7.8292   NaN\n",
       "1       3  female  47.0      1      0   7.0000   NaN\n",
       "2       2    male  62.0      0      0   9.6875   NaN\n",
       "3       3    male  27.0      0      0   8.6625   NaN\n",
       "4       3  female  22.0      1      1  12.2875   NaN"
      ]
     },
     "execution_count": 9,
     "metadata": {},
     "output_type": "execute_result"
    }
   ],
   "source": [
    "X_test = test_data.drop(['PassengerId', 'Name', 'Ticket', 'Embarked'], axis=1)\n",
    "X_test.head()"
   ]
  },
  {
   "cell_type": "code",
   "execution_count": 10,
   "id": "13bfe143-ca74-4b75-8ca8-d977a6a30caf",
   "metadata": {},
   "outputs": [
    {
     "name": "stdout",
     "output_type": "stream",
     "text": [
      "X_test.shape=(418, 7), type(X_test)=<class 'pandas.core.frame.DataFrame'>\n"
     ]
    }
   ],
   "source": [
    "print('X_test.shape={}, type(X_test)={}'.format(X_test.shape, type(X_test)))"
   ]
  },
  {
   "cell_type": "markdown",
   "id": "1854860a-e346-4f21-9d10-520a2f930d7a",
   "metadata": {},
   "source": [
    "## 2. Inspect the data \n",
    "\n",
    "### 2.1 Get information on data types and check for missing values (NaN)\n",
    "\n",
    "Let's try to get a general idea of what our data values are composed of and see if there are any missing values. This part is important as missing values could affect when we try to preprocess and encode the data to be fit our model."
   ]
  },
  {
   "cell_type": "code",
   "execution_count": 11,
   "id": "0978a6a8-a062-42fa-91ff-43ba8a28bc40",
   "metadata": {},
   "outputs": [
    {
     "name": "stdout",
     "output_type": "stream",
     "text": [
      "<class 'pandas.core.frame.DataFrame'>\n",
      "RangeIndex: 891 entries, 0 to 890\n",
      "Data columns (total 7 columns):\n",
      " #   Column  Non-Null Count  Dtype  \n",
      "---  ------  --------------  -----  \n",
      " 0   Pclass  891 non-null    int64  \n",
      " 1   Sex     891 non-null    object \n",
      " 2   Age     714 non-null    float64\n",
      " 3   SibSp   891 non-null    int64  \n",
      " 4   Parch   891 non-null    int64  \n",
      " 5   Fare    891 non-null    float64\n",
      " 6   Cabin   204 non-null    object \n",
      "dtypes: float64(2), int64(3), object(2)\n",
      "memory usage: 48.9+ KB\n"
     ]
    }
   ],
   "source": [
    "X_train.info()"
   ]
  },
  {
   "cell_type": "code",
   "execution_count": 12,
   "id": "a89e157c-49fc-405c-8d77-17b6650de470",
   "metadata": {},
   "outputs": [
    {
     "name": "stdout",
     "output_type": "stream",
     "text": [
      "<class 'pandas.core.frame.DataFrame'>\n",
      "RangeIndex: 418 entries, 0 to 417\n",
      "Data columns (total 7 columns):\n",
      " #   Column  Non-Null Count  Dtype  \n",
      "---  ------  --------------  -----  \n",
      " 0   Pclass  418 non-null    int64  \n",
      " 1   Sex     418 non-null    object \n",
      " 2   Age     332 non-null    float64\n",
      " 3   SibSp   418 non-null    int64  \n",
      " 4   Parch   418 non-null    int64  \n",
      " 5   Fare    417 non-null    float64\n",
      " 6   Cabin   91 non-null     object \n",
      "dtypes: float64(2), int64(3), object(2)\n",
      "memory usage: 23.0+ KB\n"
     ]
    }
   ],
   "source": [
    "X_test.info()"
   ]
  },
  {
   "cell_type": "markdown",
   "id": "3745e2d6-eaf0-46ae-b3ff-3214a825098b",
   "metadata": {},
   "source": [
    "As we can see above, there are some features that has missing values within our train and test data, i.e. `Age`,`Cabin` and `Fare`. We can get the rate percentage of null values of these features and decide whether to include it in our feature matrix."
   ]
  },
  {
   "cell_type": "code",
   "execution_count": 13,
   "id": "df22e83a-c290-4b2c-8b14-c1c6a1a9f1bb",
   "metadata": {},
   "outputs": [
    {
     "data": {
      "text/plain": [
       "Pclass     0.000000\n",
       "Sex        0.000000\n",
       "Age       19.865320\n",
       "SibSp      0.000000\n",
       "Parch      0.000000\n",
       "Fare       0.000000\n",
       "Cabin     77.104377\n",
       "dtype: float64"
      ]
     },
     "execution_count": 13,
     "metadata": {},
     "output_type": "execute_result"
    }
   ],
   "source": [
    "(X_train.isnull().sum() / X_train.shape[0]) * 100"
   ]
  },
  {
   "cell_type": "code",
   "execution_count": 14,
   "id": "445c7aaf-5156-47aa-9829-6a3043e6272b",
   "metadata": {},
   "outputs": [
    {
     "data": {
      "text/plain": [
       "Pclass     0.000000\n",
       "Sex        0.000000\n",
       "Age       20.574163\n",
       "SibSp      0.000000\n",
       "Parch      0.000000\n",
       "Fare       0.239234\n",
       "Cabin     78.229665\n",
       "dtype: float64"
      ]
     },
     "execution_count": 14,
     "metadata": {},
     "output_type": "execute_result"
    }
   ],
   "source": [
    "(X_test.isnull().sum() / X_test.shape[0]) * 100"
   ]
  },
  {
   "cell_type": "markdown",
   "id": "3579cfeb-b5cd-49cd-a779-0e64c670f34e",
   "metadata": {},
   "source": [
    "Since the `Cabin` and `Age` columns has a bit over 77% and over 19% of null values, respectively, it is best to disregard them for our model. The percentage of missing values could potentially skew and affect the prediction results if it's included.\n",
    "\n",
    "For the `Fare` column, there's only one row with a missing value. In this case, we could fill out the missing value with the average passenger fare."
   ]
  },
  {
   "cell_type": "code",
   "execution_count": 15,
   "id": "4232b56a-fd24-4832-a813-5b3734e8d76a",
   "metadata": {},
   "outputs": [
    {
     "name": "stdout",
     "output_type": "stream",
     "text": [
      "X.shape=(891, 5), type(X)=<class 'pandas.core.frame.DataFrame'>\n"
     ]
    }
   ],
   "source": [
    "X_train = X_train.drop(['Age','Cabin'], axis=1)\n",
    "print('X.shape={}, type(X)={}'.format(X_train.shape, type(X_train)))"
   ]
  },
  {
   "cell_type": "code",
   "execution_count": 16,
   "id": "3392867b-35e9-469c-9776-b8b237541184",
   "metadata": {},
   "outputs": [
    {
     "name": "stdout",
     "output_type": "stream",
     "text": [
      "<class 'pandas.core.frame.DataFrame'>\n",
      "RangeIndex: 891 entries, 0 to 890\n",
      "Data columns (total 5 columns):\n",
      " #   Column  Non-Null Count  Dtype  \n",
      "---  ------  --------------  -----  \n",
      " 0   Pclass  891 non-null    int64  \n",
      " 1   Sex     891 non-null    object \n",
      " 2   SibSp   891 non-null    int64  \n",
      " 3   Parch   891 non-null    int64  \n",
      " 4   Fare    891 non-null    float64\n",
      "dtypes: float64(1), int64(3), object(1)\n",
      "memory usage: 34.9+ KB\n"
     ]
    }
   ],
   "source": [
    "X_train.info()"
   ]
  },
  {
   "cell_type": "markdown",
   "id": "14983a0f-c09f-410a-a2a1-62d048ea80b6",
   "metadata": {},
   "source": [
    "Apply the same process and inspect `X_test` data."
   ]
  },
  {
   "cell_type": "code",
   "execution_count": 17,
   "id": "8b07bc6b-2a08-4f5d-9333-1cc7f93901cd",
   "metadata": {},
   "outputs": [],
   "source": [
    "X_test = X_test.fillna(X_test.mean())"
   ]
  },
  {
   "cell_type": "code",
   "execution_count": 18,
   "id": "aeaf5f69-6eb0-4cf9-b33c-5ee6d21df5a3",
   "metadata": {},
   "outputs": [
    {
     "name": "stdout",
     "output_type": "stream",
     "text": [
      "X_test.shape=(418, 5), type(X_test)=<class 'pandas.core.frame.DataFrame'>\n"
     ]
    }
   ],
   "source": [
    "X_test = X_test.drop(['Age','Cabin'], axis=1)\n",
    "print('X_test.shape={}, type(X_test)={}'.format(X_test.shape, type(X_test)))"
   ]
  },
  {
   "cell_type": "code",
   "execution_count": 19,
   "id": "06b069a1-d183-425a-8382-24af4b34a60a",
   "metadata": {},
   "outputs": [
    {
     "name": "stdout",
     "output_type": "stream",
     "text": [
      "<class 'pandas.core.frame.DataFrame'>\n",
      "RangeIndex: 418 entries, 0 to 417\n",
      "Data columns (total 5 columns):\n",
      " #   Column  Non-Null Count  Dtype  \n",
      "---  ------  --------------  -----  \n",
      " 0   Pclass  418 non-null    int64  \n",
      " 1   Sex     418 non-null    object \n",
      " 2   SibSp   418 non-null    int64  \n",
      " 3   Parch   418 non-null    int64  \n",
      " 4   Fare    418 non-null    float64\n",
      "dtypes: float64(1), int64(3), object(1)\n",
      "memory usage: 16.5+ KB\n"
     ]
    }
   ],
   "source": [
    "X_test.info()"
   ]
  },
  {
   "cell_type": "markdown",
   "id": "64b3c43f-1476-42ee-bb5f-22027f981fa8",
   "metadata": {},
   "source": [
    "### 2.2 Relationship between features and target classes\n",
    "\n",
    "Now let's try to understand the relationship between categorical features and target classes better. It is useful to visualize our features in barplots for each target class. Using seaborn `countplot()`, produce a barplot for each of the five feature columns in `X_train` using  `y_train` as hue."
   ]
  },
  {
   "cell_type": "code",
   "execution_count": 20,
   "id": "efb00a5c-5a6c-45c3-bc63-5764aa882091",
   "metadata": {},
   "outputs": [
    {
     "data": {
      "image/png": "[encoded data removed]",
      "text/plain": [
       "<Figure size 432x288 with 1 Axes>"
      ]
     },
     "metadata": {
      "needs_background": "light"
     },
     "output_type": "display_data"
    },
    {
     "data": {
      "image/png": "[encoded data removed]",
      "text/plain": [
       "<Figure size 432x288 with 1 Axes>"
      ]
     },
     "metadata": {
      "needs_background": "light"
     },
     "output_type": "display_data"
    },
    {
     "data": {
      "image/png": "[encoded data removed]",
      "text/plain": [
       "<Figure size 432x288 with 1 Axes>"
      ]
     },
     "metadata": {
      "needs_background": "light"
     },
     "output_type": "display_data"
    },
    {
     "data": {
      "image/png": "[encoded data removed]",
      "text/plain": [
       "<Figure size 432x288 with 1 Axes>"
      ]
     },
     "metadata": {
      "needs_background": "light"
     },
     "output_type": "display_data"
    }
   ],
   "source": [
    "features = ['Pclass', 'Sex', 'SibSp', 'Parch']\n",
    "\n",
    "for i in features:\n",
    "    sns.countplot(x=X_train[i], hue=y_train);\n",
    "    plt.show()"
   ]
  },
  {
   "cell_type": "markdown",
   "id": "e0d23812-1e70-4edc-a403-09109c8f8af0",
   "metadata": {},
   "source": [
    "From the barplots, it can tell us a lot on how each category from each feature could affect the chances of survival. Passengers from higher class are most likely to survive. Females and passengers with 1-2 family relatives as well."
   ]
  },
  {
   "cell_type": "markdown",
   "id": "d27c73e0-f82d-47b3-9471-938f57a6c05b",
   "metadata": {},
   "source": [
    "## 3. Preprocessing\n",
    "In this dataset, all features are either continuous, discrete or nominal and need to be encoded. We will use a columntransformer to call out all three preprocessing methods: `StandardScaler`, `OneHotEncoder`, `OrdinalEncoder`. \n",
    "\n",
    "The target vector is discrete and nominal but it is already represented in a binary integer value, so there's no need to preprocess `y_train`.\n",
    "\n",
    "### 3.1 ColumnTransformer to encode features"
   ]
  },
  {
   "cell_type": "code",
   "execution_count": 21,
   "id": "12d8c86d-8760-4772-9032-c97b3005a573",
   "metadata": {},
   "outputs": [
    {
     "name": "stdout",
     "output_type": "stream",
     "text": [
      "(891, 13)\n",
      "(418, 13)\n"
     ]
    }
   ],
   "source": [
    "from sklearn.compose import ColumnTransformer\n",
    "from sklearn.preprocessing import StandardScaler\n",
    "from sklearn.preprocessing import OneHotEncoder\n",
    "from sklearn.preprocessing import OrdinalEncoder\n",
    "\n",
    "# The Parch column can't be passed in one hot encoder because \n",
    "# it affects the transformation for X_test values.\n",
    "\n",
    "ct = ColumnTransformer([\n",
    "    (\"scaling\", StandardScaler(), ['Fare']),\n",
    "    (\"onehot\", OneHotEncoder(sparse=False), ['Pclass','SibSp']),\n",
    "    (\"nothing\", 'passthrough', ['Parch']),\n",
    "    (\"ordinal\", OrdinalEncoder(), ['Sex'])])\n",
    "\n",
    "ct.fit(X_train)\n",
    "X_train_trans = ct.transform(X_train)\n",
    "X_test_trans = ct.transform(X_test)\n",
    "print(X_train_trans.shape)\n",
    "print(X_test_trans.shape)"
   ]
  },
  {
   "cell_type": "markdown",
   "id": "ef276eff-91eb-4117-837b-1c87d2489f93",
   "metadata": {},
   "source": [
    "## 4. Compare models using cross-validation\n",
    "\n",
    "Since the data provided already has the training set and test set separate, we don't need to applied the `train_test_split` for this case.\n",
    "\n",
    "We will fit the data and compare to several models using cross-validation:\n",
    "- `LogisticRegression()`\n",
    "- `SVC()`\n",
    "- `BernoulliNB()`\n",
    "- `GaussianNB()`\n",
    "- `DecisionTreeClassifier(random_state=0)`\n",
    "- `RandomForestClassifier(random_state=55)`\n",
    "- `GradientBoostingClassifier(random_state=56)`\n",
    "\n",
    "We iterate the list of models to compute the average precision score using `get_classifier_cv_score()` defined above and a 5-fold cross-validation. It is then rank from best at the top."
   ]
  },
  {
   "cell_type": "code",
   "execution_count": 22,
   "id": "fa1b70a7-4869-4cb2-a1cd-99825a0c618b",
   "metadata": {},
   "outputs": [],
   "source": [
    "from sklearn.linear_model import LogisticRegression\n",
    "from sklearn.svm import SVC\n",
    "from sklearn.naive_bayes import BernoulliNB\n",
    "from sklearn.naive_bayes import GaussianNB\n",
    "from sklearn.tree import DecisionTreeClassifier\n",
    "from sklearn.ensemble import RandomForestClassifier\n",
    "from sklearn.ensemble import GradientBoostingClassifier\n",
    "\n",
    "logr = LogisticRegression()\n",
    "svc = SVC()\n",
    "bnb = BernoulliNB()\n",
    "gnb = GaussianNB()\n",
    "dtc = DecisionTreeClassifier(random_state=0)\n",
    "rfc = RandomForestClassifier(random_state=55)\n",
    "gbc = GradientBoostingClassifier(random_state=56)\n",
    "\n",
    "models = [logr, svc, bnb, gnb, dtc, rfc, gbc]\n",
    "model_names = []\n",
    "train_scores = []\n",
    "val_scores = []\n",
    "for model in models:\n",
    "    train, val = get_classifier_cv_score(model, X_train_trans, y_train, scoring='average_precision', cv=5)\n",
    "    model_names.append(model.__class__.__name__)\n",
    "    train_scores.append(train)\n",
    "    val_scores.append(val)"
   ]
  },
  {
   "cell_type": "code",
   "execution_count": 23,
   "id": "867b7e50-acb9-436a-a4b7-7a49f0f5a360",
   "metadata": {},
   "outputs": [
    {
     "name": "stdout",
     "output_type": "stream",
     "text": [
      "                        Model  Training_Score  Validation_Score\n",
      "0  GradientBoostingClassifier           0.912             0.833\n",
      "1          LogisticRegression           0.817             0.809\n",
      "2      RandomForestClassifier           0.960             0.798\n",
      "3                         SVC           0.821             0.797\n",
      "4                 BernoulliNB           0.760             0.750\n",
      "5                  GaussianNB           0.718             0.707\n",
      "6      DecisionTreeClassifier           0.970             0.677\n"
     ]
    }
   ],
   "source": [
    "model_scores = pd.DataFrame({'Model': model_names, \n",
    "                            'Training_Score': train_scores, \n",
    "                            'Validation_Score': val_scores})\n",
    "\n",
    "ranked_model = model_scores.sort_values(by='Validation_Score', ascending=False).reset_index(drop=True)\n",
    "print(ranked_model.round(3))"
   ]
  },
  {
   "cell_type": "markdown",
   "id": "28d51222-1212-46e6-94cf-2936914ed94a",
   "metadata": {},
   "source": [
    "## 5. Hyperparameter tuning using grid search \n",
    "\n",
    "If you re-run the previous step again and try to change between 7-fold to 5-fold, you will see that the best model that appears on top always outputs `GradientBoostingClassifier` as the best candidate.\n",
    "\n",
    "Next, hyperparameters are tuned using grid search for the top models : `GradientBoostingClassifier`, `LogisticRegression`, `RandomForestClassifier`."
   ]
  },
  {
   "cell_type": "markdown",
   "id": "4947b952-9f48-4e03-9caa-072faf713a36",
   "metadata": {},
   "source": [
    "### 5.1 Grid Search for GradientBoostingClassifier \n",
    "We will perform grid search using `GridSearchCV` for the `GradientBoostingClassifier(max_depth=5, random_state=56)`. Grid search to use 5-fold cross-validation, and `average_precision` as the scoring function.\n",
    "\n",
    "The following hyperparameters and values are used:\n",
    "- `'n_estimators': [30, 50, 100, 200]`,\n",
    "- `'learning_rate': [0.001, 0.01, 0.1, 1.0]`\n",
    "\n",
    "`print_grid_search_result()` and `plot_grid_search_result()` functions defined above will be used to show the results."
   ]
  },
  {
   "cell_type": "code",
   "execution_count": 25,
   "id": "f6a56790-60a7-4539-923b-1cfc8e2c1a60",
   "metadata": {},
   "outputs": [],
   "source": [
    "from sklearn.model_selection import GridSearchCV\n",
    "from sklearn.ensemble import GradientBoostingClassifier\n",
    "\n",
    "param_grid = {'n_estimators': [30, 50, 100, 200],\n",
    "              'learning_rate': [0.001, 0.01, 0.1, 1.0]}\n",
    "\n",
    "gbc = GradientBoostingClassifier(max_depth=5, random_state=56)\n",
    "grid_search = GridSearchCV(gbc, param_grid, cv=5, scoring='average_precision', return_train_score=True)"
   ]
  },
  {
   "cell_type": "code",
   "execution_count": 26,
   "id": "a10fa2f0-dd72-428c-b0cd-c040fbeb8378",
   "metadata": {},
   "outputs": [
    {
     "data": {
      "text/plain": [
       "GridSearchCV(cv=5,\n",
       "             estimator=GradientBoostingClassifier(max_depth=5, random_state=56),\n",
       "             param_grid={'learning_rate': [0.001, 0.01, 0.1, 1.0],\n",
       "                         'n_estimators': [30, 50, 100, 200]},\n",
       "             return_train_score=True, scoring='average_precision')"
      ]
     },
     "execution_count": 26,
     "metadata": {},
     "output_type": "execute_result"
    }
   ],
   "source": [
    "grid_search.fit(X_train_trans, y_train)"
   ]
  },
  {
   "cell_type": "code",
   "execution_count": 27,
   "id": "fec7934c-f18b-472b-a28d-136b328e9faa",
   "metadata": {},
   "outputs": [
    {
     "name": "stdout",
     "output_type": "stream",
     "text": [
      "Best parameters: {'learning_rate': 0.1, 'n_estimators': 50}\n",
      "Best cross-validation score: 0.835\n"
     ]
    }
   ],
   "source": [
    "print_grid_search_result(grid_search)"
   ]
  },
  {
   "cell_type": "code",
   "execution_count": 28,
   "id": "18464402-b2dc-4fd8-8cce-2f51d01a0336",
   "metadata": {},
   "outputs": [
    {
     "data": {
      "image/png": "[encoded data removed]",
      "text/plain": [
       "<Figure size 432x288 with 1 Axes>"
      ]
     },
     "metadata": {
      "needs_background": "light"
     },
     "output_type": "display_data"
    }
   ],
   "source": [
    "plot_grid_search_results(grid_search)"
   ]
  },
  {
   "cell_type": "markdown",
   "id": "a1674396-a005-4a26-9854-e1316849dc39",
   "metadata": {},
   "source": [
    "### 5.2 Grid Search for LogisticRegression\n",
    "We will perform grid search using `GridSearchCV` for the `LogisticRegression()`. Grid search to use 5-fold cross-validation, and `average_precision` as the scoring function.\n",
    "\n",
    "The following hyperparameters and values are used:\n",
    "- `'C': [0.001,0.01,0.1,1,10,100,1000]`\n",
    "- `'penalty': [\"l2\"]` <-- The l1 parameter would have been included into the grid search but it was giving me an error that the parameter is not included in my package. For this mini-project, I would only applied `l2` for the grid search portion.\n",
    "\n",
    "`print_grid_search_result()` and `plot_grid_search_result()` functions defined above will be used to show the results."
   ]
  },
  {
   "cell_type": "code",
   "execution_count": 29,
   "id": "69d523a1-9f22-432c-88e2-a26481986ce8",
   "metadata": {},
   "outputs": [],
   "source": [
    "from sklearn.model_selection import GridSearchCV\n",
    "from sklearn.linear_model import LogisticRegression\n",
    "\n",
    "logr = LogisticRegression()\n",
    "param_grid = {'C': [0.001,0.01,0.1,1,10,100,1000],\n",
    "              'penalty': [\"l2\"]}\n",
    "\n",
    "grid_search = GridSearchCV(logr, param_grid, cv=5, scoring='average_precision', return_train_score=True)"
   ]
  },
  {
   "cell_type": "code",
   "execution_count": 30,
   "id": "4d677920-0147-4116-bd8f-a9258bc66eb7",
   "metadata": {},
   "outputs": [
    {
     "data": {
      "text/plain": [
       "GridSearchCV(cv=5, estimator=LogisticRegression(),\n",
       "             param_grid={'C': [0.001, 0.01, 0.1, 1, 10, 100, 1000],\n",
       "                         'penalty': ['l2']},\n",
       "             return_train_score=True, scoring='average_precision')"
      ]
     },
     "execution_count": 30,
     "metadata": {},
     "output_type": "execute_result"
    }
   ],
   "source": [
    "grid_search.fit(X_train_trans, y_train)"
   ]
  },
  {
   "cell_type": "code",
   "execution_count": 31,
   "id": "4a9b4f1e-225a-4a06-94f2-5b949b895680",
   "metadata": {},
   "outputs": [
    {
     "name": "stdout",
     "output_type": "stream",
     "text": [
      "Best parameters: {'C': 1000, 'penalty': 'l2'}\n",
      "Best cross-validation score: 0.810\n"
     ]
    }
   ],
   "source": [
    "print_grid_search_result(grid_search)"
   ]
  },
  {
   "cell_type": "code",
   "execution_count": 32,
   "id": "da750b04-f757-4ab3-9647-2cdf63a1c113",
   "metadata": {},
   "outputs": [
    {
     "data": {
      "image/png": "[encoded data removed]",
      "text/plain": [
       "<Figure size 432x288 with 1 Axes>"
      ]
     },
     "metadata": {
      "needs_background": "light"
     },
     "output_type": "display_data"
    }
   ],
   "source": [
    "plot_grid_search_results(grid_search)"
   ]
  },
  {
   "cell_type": "markdown",
   "id": "ca13814f-43f0-441c-810c-3a277933fa23",
   "metadata": {},
   "source": [
    "### 5.3 Grid Search for RandomForestClassifier\n",
    "We will perform grid search using `GridSearchCV` for the `RandomForestClassifier(random_state=55)`. Grid search to use 5-fold cross-validation, and `average_precision` as the scoring function.\n",
    "\n",
    "The following hyperparameters and values are used:\n",
    "- `'n_estimators': [50, 100, 300, 500, 700]`\n",
    "- `'max_depth': [5, 7, 9, 11, 13]`\n",
    "\n",
    "`print_grid_search_result()` and `plot_grid_search_result()` functions defined above will be used to show the results."
   ]
  },
  {
   "cell_type": "code",
   "execution_count": 33,
   "id": "bb8c5841-1663-4555-b832-e52926782b27",
   "metadata": {},
   "outputs": [],
   "source": [
    "from sklearn.model_selection import GridSearchCV\n",
    "from sklearn.ensemble import RandomForestClassifier\n",
    "\n",
    "param_grid = {'n_estimators': [50, 100, 300, 500, 700],\n",
    "              'max_depth': [5, 7, 9, 11, 13]}\n",
    "\n",
    "rfc = RandomForestClassifier(random_state=55)\n",
    "grid_search = GridSearchCV(rfc, param_grid, cv=5, scoring='average_precision', return_train_score=True)"
   ]
  },
  {
   "cell_type": "code",
   "execution_count": 34,
   "id": "bbc38e70-f5fb-4c47-adf6-0c5ef7f1cd9f",
   "metadata": {},
   "outputs": [
    {
     "data": {
      "text/plain": [
       "GridSearchCV(cv=5, estimator=RandomForestClassifier(random_state=55),\n",
       "             param_grid={'max_depth': [5, 7, 9, 11, 13],\n",
       "                         'n_estimators': [50, 100, 300, 500, 700]},\n",
       "             return_train_score=True, scoring='average_precision')"
      ]
     },
     "execution_count": 34,
     "metadata": {},
     "output_type": "execute_result"
    }
   ],
   "source": [
    "grid_search.fit(X_train_trans, y_train)"
   ]
  },
  {
   "cell_type": "code",
   "execution_count": 35,
   "id": "52a9aca6-9610-448a-8014-3546a312e583",
   "metadata": {},
   "outputs": [
    {
     "name": "stdout",
     "output_type": "stream",
     "text": [
      "Best parameters: {'max_depth': 7, 'n_estimators': 100}\n",
      "Best cross-validation score: 0.833\n"
     ]
    }
   ],
   "source": [
    "print_grid_search_result(grid_search)"
   ]
  },
  {
   "cell_type": "code",
   "execution_count": 36,
   "id": "d0cfb9eb-712d-4750-9850-341698d1eb17",
   "metadata": {},
   "outputs": [
    {
     "data": {
      "image/png": "[encoded data removed]",
      "text/plain": [
       "<Figure size 432x288 with 1 Axes>"
      ]
     },
     "metadata": {
      "needs_background": "light"
     },
     "output_type": "display_data"
    }
   ],
   "source": [
    "plot_grid_search_results(grid_search)"
   ]
  },
  {
   "cell_type": "markdown",
   "id": "03804d61-a5c9-4ef0-8209-86fc8531046a",
   "metadata": {},
   "source": [
    "## 6. Retrain best model and predict test data\n",
    "Based on our grid search results, it turns out that the `GradientBoostingClassfier` is still the best model for our case with best parameters: `{'learning_rate': 0.1, 'n_estimators': 50}` and best cross-validation score of `0.835`. Let's retrain the training dataset with the same model and its best parameters."
   ]
  },
  {
   "cell_type": "code",
   "execution_count": 37,
   "id": "60a61cdd-6e3b-4154-8c5c-27ea38107a6b",
   "metadata": {},
   "outputs": [],
   "source": [
    "model = GradientBoostingClassifier(learning_rate=0.1, n_estimators=50, max_depth=5, random_state=56)\n",
    "model.fit(X_train_trans, y_train)\n",
    "y_pred_train = model.predict(X_train_trans)\n",
    "y_pred_test = model.predict(X_test_trans)"
   ]
  },
  {
   "cell_type": "code",
   "execution_count": 38,
   "id": "c2cf9a3a-701f-4179-bca1-7f1a9a540bbd",
   "metadata": {},
   "outputs": [
    {
     "name": "stdout",
     "output_type": "stream",
     "text": [
      "Your submission was successfully saved!\n"
     ]
    }
   ],
   "source": [
    "output = pd.DataFrame({'PassengerId': test_data.PassengerId, 'Survived': y_pred_test})\n",
    "output.to_csv('submission.csv', index=False)\n",
    "print(\"Your submission was successfully saved!\")"
   ]
  },
  {
   "cell_type": "code",
   "execution_count": 39,
   "id": "6b1385c4-5058-4457-a84f-636ca3d2ae1c",
   "metadata": {},
   "outputs": [
    {
     "data": {
      "image/jpeg": "[encoded data removed]",
      "text/plain": [
       "<IPython.core.display.Image object>"
      ]
     },
     "execution_count": 39,
     "metadata": {},
     "output_type": "execute_result"
    }
   ],
   "source": [
    "from IPython.display import Image\n",
    "Image(\"KaggleSubmissionResults.jpg\")"
   ]
  },
  {
   "cell_type": "markdown",
   "id": "d2f47d51-2641-458b-a9da-2d33a256ce88",
   "metadata": {},
   "source": [
    "## 7. Conclusion - Was the topic investigated and how?\n",
    "Yes, the topic of my project was investigated as I completed my first Kaggle competition. The submission score given was 76.794% as seen in the screenshot above.\n",
    "\n",
    "Unfortunately, the Kaggle site doesn't provide the actual test results to compare with my predictions for the Titanic case. If they did, I would have extended a bit more and evaluate the test data with metrics on binary classification and ROC-AUC. We would then tweak our models and re-submit to the competition.\n",
    "\n",
    "One factor was also the number of missing values for certain features were not included in the training dataset. I believe the `Age` column could have also contribute the chances of survival. \n",
    "\n",
    "Another potential factor that could have affected the predicted outcome were certain parameters in the LogisticRegression model wasn't included in my jupyter lab environment. If the parameter was included, the hyperparameter tuning portion could have yield better results than the `GradientBoostingClassifier`."
   ]
  },
  {
   "cell_type": "markdown",
   "id": "fb2e7c45-ffdb-4bd3-a93e-abfd7775f140",
   "metadata": {},
   "source": [
    "## 8. Reflection - Deviations from proposal?\n",
    "I like the overall learning experience on going over through a machine learning process on my own by following through all the concepts and models I have learned in class. \n",
    "\n",
    "There were definitely a few couple of small challenges when it comes to testing out and compare the many different models it have and hyperparameter tuning it to produce the best results. There wasn't much deviation from the proposal as all the models proposed and preprocessing tools were used during this project. The only portion I would have liked to continue was to evaluate the actual test data with binary classifcation and ROC-AUC. Also due to time constraints, I would have extended my project to apply the XGBoost classifier model as well.\n",
    "\n",
    "After knowing the submission score I got from this first Kaggle competition, I wasn't really happy with it as I expected to score higher but I guess this is part of the experience to keep learning more and try to master our machine learning skills along the journey.\n",
    "\n",
    "Thank you, Dr Pauchard and TAs (Fuzzy and Yousef) :)"
   ]
  },
  {
   "cell_type": "code",
   "execution_count": null,
   "id": "993e0dee-289e-4a3c-922b-060e7f70a198",
   "metadata": {},
   "outputs": [],
   "source": []
  }
 ],
 "metadata": {
  "kernelspec": {
   "display_name": "Python 3",
   "language": "python",
   "name": "python3"
  },
  "language_info": {
   "codemirror_mode": {
    "name": "ipython",
    "version": 3
   },
   "file_extension": ".py",
   "mimetype": "text/x-python",
   "name": "python",
   "nbconvert_exporter": "python",
   "pygments_lexer": "ipython3",
   "version": "3.8.8"
  }
 },
 "nbformat": 4,
 "nbformat_minor": 5
}
